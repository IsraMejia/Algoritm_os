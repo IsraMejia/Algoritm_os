{
 "cells": [
  {
   "cell_type": "code",
   "execution_count": 5,
   "metadata": {},
   "outputs": [
    {
     "name": "stdout",
     "output_type": "stream",
     "text": [
      "1 moneda(s) de 10 pesos\n",
      "4 moneda(s) de 5 pesos\n",
      "8 moneda(s) de 2 pesos\n",
      "2 moneda(s) de 1 pesos\n",
      "1 moneda(s) de 0.5 pesos\n"
     ]
    }
   ],
   "source": [
    "# Leer los valores de la compra y el monto recibido\n",
    "compra = float(input(\"Ingrese el valor total de la compra: \"))\n",
    "monto_recibido = float(input(\"Ingrese el monto recibido: \"))\n",
    "\n",
    "# Calcular el cambio total\n",
    "cambio_total = monto_recibido - compra\n",
    "\n",
    "# Inicializar una lista para almacenar las denominaciones de moneda\n",
    "denominaciones = [10, 5, 2, 1, 0.5]\n",
    "\n",
    "# Inicializar un diccionario para almacenar la cantidad de monedas disponibles\n",
    "cambio_disponible = {10: 2, 5: 4, 2: 8, 1: 2, 0.5: 1}\n",
    "\n",
    "# Calcular la cantidad de monedas de cada denominación que se deben dar\n",
    "for denominacion in denominaciones:\n",
    "    if cambio_total >= denominacion:\n",
    "        cantidad = int(cambio_total / denominacion)\n",
    "        cambio_disponible[denominacion] = cantidad\n",
    "        cambio_total -= cantidad * denominacion\n",
    "\n",
    "# Agregar monedas adicionales para ajustar el cambio exacto\n",
    "if cambio_total > 0:\n",
    "    cambio_disponible[0.5] += 1\n",
    "\n",
    "# Imprimir el número de monedas de cada denominación que se deben dar como cambio\n",
    "for denominacion, cantidad in cambio_disponible.items():\n",
    "    if cantidad > 0:\n",
    "        print(f\"{cantidad} moneda(s) de {denominacion} pesos\")\n"
   ]
  }
 ],
 "metadata": {
  "kernelspec": {
   "display_name": "Python 3.10.7 64-bit",
   "language": "python",
   "name": "python3"
  },
  "language_info": {
   "codemirror_mode": {
    "name": "ipython",
    "version": 3
   },
   "file_extension": ".py",
   "mimetype": "text/x-python",
   "name": "python",
   "nbconvert_exporter": "python",
   "pygments_lexer": "ipython3",
   "version": "3.10.7"
  },
  "orig_nbformat": 4,
  "vscode": {
   "interpreter": {
    "hash": "aee8b7b246df8f9039afb4144a1f6fd8d2ca17a180786b69acc140d282b71a49"
   }
  }
 },
 "nbformat": 4,
 "nbformat_minor": 2
}
